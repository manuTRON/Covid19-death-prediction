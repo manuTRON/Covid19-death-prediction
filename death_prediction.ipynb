{
 "cells": [
  {
   "cell_type": "code",
   "execution_count": 1,
   "metadata": {},
   "outputs": [],
   "source": [
    "import pandas as pd\n",
    "import warnings\n",
    "warnings.filterwarnings(\"ignore\")"
   ]
  },
  {
   "cell_type": "code",
   "execution_count": 2,
   "metadata": {},
   "outputs": [],
   "source": [
    "death = pd.read_csv(\"time_series_covid19_deaths_global.csv\")\n",
    "recovered = pd.read_csv(\"time_series_covid19_recovered_global.csv\")\n",
    "total = pd.read_csv(\"time_series_covid19_confirmed_global.csv\")"
   ]
  },
  {
   "cell_type": "code",
   "execution_count": 3,
   "metadata": {},
   "outputs": [],
   "source": [
    "death = death[death[\"Country/Region\"] == \"Saudi Arabia\"]\n",
    "recovered = recovered[recovered[\"Country/Region\"] == \"Saudi Arabia\"]\n",
    "total = total[total[\"Country/Region\"] == \"Saudi Arabia\"]"
   ]
  },
  {
   "cell_type": "code",
   "execution_count": 4,
   "metadata": {},
   "outputs": [],
   "source": [
    "lst2 = []\n",
    "for i in range(1,24):\n",
    "    a = '7/'+str(i) +'/20'\n",
    "    lst2.append(a)\n"
   ]
  },
  {
   "cell_type": "code",
   "execution_count": 5,
   "metadata": {},
   "outputs": [],
   "source": [
    "lst1 = []\n",
    "for i in range(26,31):\n",
    "    a = '6/'+str(i) +'/20'\n",
    "    lst1.append(a)\n"
   ]
  },
  {
   "cell_type": "code",
   "execution_count": 6,
   "metadata": {},
   "outputs": [
    {
     "name": "stdout",
     "output_type": "stream",
     "text": [
      "28\n"
     ]
    }
   ],
   "source": [
    "f = lst1 + lst2\n",
    "print(len(f))\n"
   ]
  },
  {
   "cell_type": "code",
   "execution_count": 7,
   "metadata": {},
   "outputs": [],
   "source": [
    "recovered = recovered[f]\n",
    "death =  death[f]\n",
    "total = total[f]"
   ]
  },
  {
   "cell_type": "code",
   "execution_count": 8,
   "metadata": {},
   "outputs": [],
   "source": [
    "frames = [total,recovered,death]"
   ]
  },
  {
   "cell_type": "code",
   "execution_count": 9,
   "metadata": {},
   "outputs": [
    {
     "data": {
      "text/html": [
       "<div>\n",
       "<style scoped>\n",
       "    .dataframe tbody tr th:only-of-type {\n",
       "        vertical-align: middle;\n",
       "    }\n",
       "\n",
       "    .dataframe tbody tr th {\n",
       "        vertical-align: top;\n",
       "    }\n",
       "\n",
       "    .dataframe thead th {\n",
       "        text-align: right;\n",
       "    }\n",
       "</style>\n",
       "<table border=\"1\" class=\"dataframe\">\n",
       "  <thead>\n",
       "    <tr style=\"text-align: right;\">\n",
       "      <th></th>\n",
       "      <th>6/26/20</th>\n",
       "      <th>6/27/20</th>\n",
       "      <th>6/28/20</th>\n",
       "      <th>6/29/20</th>\n",
       "      <th>6/30/20</th>\n",
       "      <th>7/1/20</th>\n",
       "      <th>7/2/20</th>\n",
       "      <th>7/3/20</th>\n",
       "      <th>7/4/20</th>\n",
       "      <th>7/5/20</th>\n",
       "      <th>...</th>\n",
       "      <th>7/14/20</th>\n",
       "      <th>7/15/20</th>\n",
       "      <th>7/16/20</th>\n",
       "      <th>7/17/20</th>\n",
       "      <th>7/18/20</th>\n",
       "      <th>7/19/20</th>\n",
       "      <th>7/20/20</th>\n",
       "      <th>7/21/20</th>\n",
       "      <th>7/22/20</th>\n",
       "      <th>7/23/20</th>\n",
       "    </tr>\n",
       "  </thead>\n",
       "  <tbody>\n",
       "    <tr>\n",
       "      <th>192</th>\n",
       "      <td>174577</td>\n",
       "      <td>178504</td>\n",
       "      <td>182493</td>\n",
       "      <td>186436</td>\n",
       "      <td>190823</td>\n",
       "      <td>194225</td>\n",
       "      <td>197608</td>\n",
       "      <td>201801</td>\n",
       "      <td>205929</td>\n",
       "      <td>209509</td>\n",
       "      <td>...</td>\n",
       "      <td>237803</td>\n",
       "      <td>240474</td>\n",
       "      <td>243238</td>\n",
       "      <td>245851</td>\n",
       "      <td>248416</td>\n",
       "      <td>250920</td>\n",
       "      <td>253349</td>\n",
       "      <td>255825</td>\n",
       "      <td>258156</td>\n",
       "      <td>260394</td>\n",
       "    </tr>\n",
       "    <tr>\n",
       "      <th>190</th>\n",
       "      <td>120471</td>\n",
       "      <td>122128</td>\n",
       "      <td>124755</td>\n",
       "      <td>127118</td>\n",
       "      <td>130766</td>\n",
       "      <td>132760</td>\n",
       "      <td>137669</td>\n",
       "      <td>140614</td>\n",
       "      <td>143256</td>\n",
       "      <td>145236</td>\n",
       "      <td>...</td>\n",
       "      <td>177560</td>\n",
       "      <td>183048</td>\n",
       "      <td>187622</td>\n",
       "      <td>191161</td>\n",
       "      <td>194218</td>\n",
       "      <td>197735</td>\n",
       "      <td>203259</td>\n",
       "      <td>207259</td>\n",
       "      <td>210398</td>\n",
       "      <td>213490</td>\n",
       "    </tr>\n",
       "    <tr>\n",
       "      <th>192</th>\n",
       "      <td>1474</td>\n",
       "      <td>1511</td>\n",
       "      <td>1551</td>\n",
       "      <td>1599</td>\n",
       "      <td>1649</td>\n",
       "      <td>1698</td>\n",
       "      <td>1752</td>\n",
       "      <td>1802</td>\n",
       "      <td>1858</td>\n",
       "      <td>1916</td>\n",
       "      <td>...</td>\n",
       "      <td>2283</td>\n",
       "      <td>2325</td>\n",
       "      <td>2370</td>\n",
       "      <td>2407</td>\n",
       "      <td>2447</td>\n",
       "      <td>2486</td>\n",
       "      <td>2523</td>\n",
       "      <td>2557</td>\n",
       "      <td>2601</td>\n",
       "      <td>2635</td>\n",
       "    </tr>\n",
       "  </tbody>\n",
       "</table>\n",
       "<p>3 rows × 28 columns</p>\n",
       "</div>"
      ],
      "text/plain": [
       "     6/26/20  6/27/20  6/28/20  6/29/20  6/30/20  7/1/20  7/2/20  7/3/20  \\\n",
       "192   174577   178504   182493   186436   190823  194225  197608  201801   \n",
       "190   120471   122128   124755   127118   130766  132760  137669  140614   \n",
       "192     1474     1511     1551     1599     1649    1698    1752    1802   \n",
       "\n",
       "     7/4/20  7/5/20   ...     7/14/20  7/15/20  7/16/20  7/17/20  7/18/20  \\\n",
       "192  205929  209509   ...      237803   240474   243238   245851   248416   \n",
       "190  143256  145236   ...      177560   183048   187622   191161   194218   \n",
       "192    1858    1916   ...        2283     2325     2370     2407     2447   \n",
       "\n",
       "     7/19/20  7/20/20  7/21/20  7/22/20  7/23/20  \n",
       "192   250920   253349   255825   258156   260394  \n",
       "190   197735   203259   207259   210398   213490  \n",
       "192     2486     2523     2557     2601     2635  \n",
       "\n",
       "[3 rows x 28 columns]"
      ]
     },
     "execution_count": 9,
     "metadata": {},
     "output_type": "execute_result"
    }
   ],
   "source": [
    "df = pd.concat(frames)\n",
    "df"
   ]
  },
  {
   "cell_type": "code",
   "execution_count": 10,
   "metadata": {},
   "outputs": [],
   "source": [
    "df.index = [\"confirmed\",\"recovered\",\"death\"]"
   ]
  },
  {
   "cell_type": "code",
   "execution_count": 14,
   "metadata": {},
   "outputs": [],
   "source": [
    "final = df.T"
   ]
  },
  {
   "cell_type": "code",
   "execution_count": 12,
   "metadata": {},
   "outputs": [],
   "source": [
    "i = 1\n",
    "j = 0\n",
    "final[\"day_stamp\"] = [0]*28\n",
    "for a in final.index:\n",
    "    final[\"day_stamp\"][j] = i\n",
    "    i = i + 1\n",
    "    j = j + 1\n"
   ]
  },
  {
   "cell_type": "code",
   "execution_count": 15,
   "metadata": {},
   "outputs": [
    {
     "data": {
      "text/html": [
       "<div>\n",
       "<style scoped>\n",
       "    .dataframe tbody tr th:only-of-type {\n",
       "        vertical-align: middle;\n",
       "    }\n",
       "\n",
       "    .dataframe tbody tr th {\n",
       "        vertical-align: top;\n",
       "    }\n",
       "\n",
       "    .dataframe thead th {\n",
       "        text-align: right;\n",
       "    }\n",
       "</style>\n",
       "<table border=\"1\" class=\"dataframe\">\n",
       "  <thead>\n",
       "    <tr style=\"text-align: right;\">\n",
       "      <th></th>\n",
       "      <th>confirmed</th>\n",
       "      <th>recovered</th>\n",
       "      <th>death</th>\n",
       "    </tr>\n",
       "  </thead>\n",
       "  <tbody>\n",
       "    <tr>\n",
       "      <th>6/26/20</th>\n",
       "      <td>174577</td>\n",
       "      <td>120471</td>\n",
       "      <td>1474</td>\n",
       "    </tr>\n",
       "    <tr>\n",
       "      <th>6/27/20</th>\n",
       "      <td>178504</td>\n",
       "      <td>122128</td>\n",
       "      <td>1511</td>\n",
       "    </tr>\n",
       "    <tr>\n",
       "      <th>6/28/20</th>\n",
       "      <td>182493</td>\n",
       "      <td>124755</td>\n",
       "      <td>1551</td>\n",
       "    </tr>\n",
       "    <tr>\n",
       "      <th>6/29/20</th>\n",
       "      <td>186436</td>\n",
       "      <td>127118</td>\n",
       "      <td>1599</td>\n",
       "    </tr>\n",
       "    <tr>\n",
       "      <th>6/30/20</th>\n",
       "      <td>190823</td>\n",
       "      <td>130766</td>\n",
       "      <td>1649</td>\n",
       "    </tr>\n",
       "  </tbody>\n",
       "</table>\n",
       "</div>"
      ],
      "text/plain": [
       "         confirmed  recovered  death\n",
       "6/26/20     174577     120471   1474\n",
       "6/27/20     178504     122128   1511\n",
       "6/28/20     182493     124755   1551\n",
       "6/29/20     186436     127118   1599\n",
       "6/30/20     190823     130766   1649"
      ]
     },
     "execution_count": 15,
     "metadata": {},
     "output_type": "execute_result"
    }
   ],
   "source": [
    "final[:5]"
   ]
  },
  {
   "cell_type": "code",
   "execution_count": 187,
   "metadata": {},
   "outputs": [],
   "source": [
    "Y_train =final[\"death\"][:21]\n",
    "Y_test = final[\"death\"][21:]\n",
    "X_train = final[[\"confirmed\",\"recovered\",\"day_stamp\"]][:21]\n",
    "X_test = final[[\"confirmed\",\"recovered\",\"day_stamp\"]][21:]"
   ]
  },
  {
   "cell_type": "code",
   "execution_count": 18,
   "metadata": {},
   "outputs": [],
   "source": [
    "import pickle"
   ]
  },
  {
   "cell_type": "code",
   "execution_count": 19,
   "metadata": {},
   "outputs": [],
   "source": [
    "with open(\"data.pkl\",\"wb\") as f:\n",
    "    pickle.dump(final,f)\n",
    "    f.close()"
   ]
  },
  {
   "cell_type": "code",
   "execution_count": 188,
   "metadata": {},
   "outputs": [
    {
     "data": {
      "text/html": [
       "<div>\n",
       "<style scoped>\n",
       "    .dataframe tbody tr th:only-of-type {\n",
       "        vertical-align: middle;\n",
       "    }\n",
       "\n",
       "    .dataframe tbody tr th {\n",
       "        vertical-align: top;\n",
       "    }\n",
       "\n",
       "    .dataframe thead th {\n",
       "        text-align: right;\n",
       "    }\n",
       "</style>\n",
       "<table border=\"1\" class=\"dataframe\">\n",
       "  <thead>\n",
       "    <tr style=\"text-align: right;\">\n",
       "      <th></th>\n",
       "      <th>confirmed</th>\n",
       "      <th>recovered</th>\n",
       "      <th>day_stamp</th>\n",
       "    </tr>\n",
       "  </thead>\n",
       "  <tbody>\n",
       "    <tr>\n",
       "      <th>7/17/20</th>\n",
       "      <td>245851</td>\n",
       "      <td>191161</td>\n",
       "      <td>22</td>\n",
       "    </tr>\n",
       "    <tr>\n",
       "      <th>7/18/20</th>\n",
       "      <td>248416</td>\n",
       "      <td>194218</td>\n",
       "      <td>23</td>\n",
       "    </tr>\n",
       "    <tr>\n",
       "      <th>7/19/20</th>\n",
       "      <td>250920</td>\n",
       "      <td>197735</td>\n",
       "      <td>24</td>\n",
       "    </tr>\n",
       "    <tr>\n",
       "      <th>7/20/20</th>\n",
       "      <td>253349</td>\n",
       "      <td>203259</td>\n",
       "      <td>25</td>\n",
       "    </tr>\n",
       "    <tr>\n",
       "      <th>7/21/20</th>\n",
       "      <td>255825</td>\n",
       "      <td>207259</td>\n",
       "      <td>26</td>\n",
       "    </tr>\n",
       "    <tr>\n",
       "      <th>7/22/20</th>\n",
       "      <td>258156</td>\n",
       "      <td>210398</td>\n",
       "      <td>27</td>\n",
       "    </tr>\n",
       "    <tr>\n",
       "      <th>7/23/20</th>\n",
       "      <td>260394</td>\n",
       "      <td>213490</td>\n",
       "      <td>28</td>\n",
       "    </tr>\n",
       "  </tbody>\n",
       "</table>\n",
       "</div>"
      ],
      "text/plain": [
       "         confirmed  recovered  day_stamp\n",
       "7/17/20     245851     191161         22\n",
       "7/18/20     248416     194218         23\n",
       "7/19/20     250920     197735         24\n",
       "7/20/20     253349     203259         25\n",
       "7/21/20     255825     207259         26\n",
       "7/22/20     258156     210398         27\n",
       "7/23/20     260394     213490         28"
      ]
     },
     "execution_count": 188,
     "metadata": {},
     "output_type": "execute_result"
    }
   ],
   "source": [
    "X_test"
   ]
  },
  {
   "cell_type": "code",
   "execution_count": 189,
   "metadata": {},
   "outputs": [],
   "source": [
    "from sklearn.svm import SVR\n",
    "from sklearn.model_selection import GridSearchCV \n",
    "from sklearn import preprocessing,tree"
   ]
  },
  {
   "cell_type": "code",
   "execution_count": 190,
   "metadata": {},
   "outputs": [],
   "source": [
    "scaler = preprocessing.StandardScaler().fit(X_train)\n",
    "X_train = scaler.transform(X_train)\n",
    "X_test = scaler.transform(X_test)"
   ]
  },
  {
   "cell_type": "code",
   "execution_count": 191,
   "metadata": {},
   "outputs": [
    {
     "name": "stdout",
     "output_type": "stream",
     "text": [
      "0:00:13.746198\n"
     ]
    }
   ],
   "source": [
    "from sklearn.linear_model import SGDRegressor\n",
    "from sklearn.model_selection import GridSearchCV\n",
    "import datetime\n",
    "\n",
    "\n",
    "start = datetime.datetime.now()\n",
    "lr = SGDRegressor()\n",
    "alpha = [0.00001,0.000001,0.000002,0.000005]\n",
    "iteration = [300,400,500,600]\n",
    "\n",
    "c_param = {\"alpha\": alpha, \"max_iter\":iteration}\n",
    "optimal_model = GridSearchCV(lr, param_grid= c_param, scoring = \"neg_mean_absolute_error\",n_jobs=4, cv=5)\n",
    "\n",
    "optimal_model.fit(X_train, Y_train)\n",
    "print(datetime.datetime.now() - start)"
   ]
  },
  {
   "cell_type": "code",
   "execution_count": 192,
   "metadata": {},
   "outputs": [
    {
     "name": "stdout",
     "output_type": "stream",
     "text": [
      "SGDRegressor(alpha=1e-05, average=False, early_stopping=False, epsilon=0.1,\n",
      "             eta0=0.01, fit_intercept=True, l1_ratio=0.15,\n",
      "             learning_rate='invscaling', loss='squared_loss', max_iter=300,\n",
      "             n_iter_no_change=5, penalty='l2', power_t=0.25, random_state=None,\n",
      "             shuffle=True, tol=0.001, validation_fraction=0.1, verbose=0,\n",
      "             warm_start=False)\n"
     ]
    }
   ],
   "source": [
    "print(optimal_model.best_estimator_)"
   ]
  },
  {
   "cell_type": "code",
   "execution_count": 193,
   "metadata": {},
   "outputs": [],
   "source": [
    "y_pred = optimal_model.predict(X_train)\n",
    "P_train = [int(round(value)) for value in y_pred]\n",
    "y_pred = optimal_model.predict(X_test)\n",
    "P_test = [int(round(value)) for value in y_pred]"
   ]
  },
  {
   "cell_type": "code",
   "execution_count": 194,
   "metadata": {},
   "outputs": [],
   "source": [
    "from sklearn.metrics import mean_absolute_error\n"
   ]
  },
  {
   "cell_type": "code",
   "execution_count": 195,
   "metadata": {},
   "outputs": [
    {
     "name": "stdout",
     "output_type": "stream",
     "text": [
      "Train mape error is 0.0075374416891726 and Test mape error is 0.021748980516538285\n"
     ]
    }
   ],
   "source": [
    "train_lr_mape= (mean_absolute_error(Y_train, P_train))/(sum(Y_train)/len(Y_train))\n",
    "test_lr_mape= (mean_absolute_error(Y_test, P_test))/(sum(Y_test)/len(Y_test))\n",
    "\n",
    "print(\"Train mape error is {} and Test mape error is {}\".format(train_lr_mape,test_lr_mape))"
   ]
  },
  {
   "cell_type": "code",
   "execution_count": 196,
   "metadata": {},
   "outputs": [
    {
     "name": "stdout",
     "output_type": "stream",
     "text": [
      "[1474, 1511, 1551, 1599, 1649, 1698, 1752, 1802, 1858, 1916, 1968, 2017, 2059, 2100, 2151, 2181, 2223, 2243, 2283, 2325, 2370]\n",
      "[1478, 1520, 1566, 1611, 1663, 1703, 1756, 1804, 1851, 1892, 1946, 2000, 2044, 2088, 2127, 2167, 2203, 2244, 2304, 2356, 2404]\n"
     ]
    }
   ],
   "source": [
    "print(list(Y_train))\n",
    "print(P_train)"
   ]
  },
  {
   "cell_type": "code",
   "execution_count": 197,
   "metadata": {},
   "outputs": [
    {
     "name": "stdout",
     "output_type": "stream",
     "text": [
      "[2407, 2447, 2486, 2523, 2557, 2601, 2635]\n",
      "[2447, 2488, 2530, 2581, 2625, 2665, 2704]\n"
     ]
    }
   ],
   "source": [
    "print(list(Y_test))\n",
    "print(P_test)"
   ]
  },
  {
   "cell_type": "code",
   "execution_count": 198,
   "metadata": {},
   "outputs": [
    {
     "data": {
      "image/png": "[encoded data removed]",
      "text/plain": [
       "<matplotlib.figure.Figure at 0x201d614e518>"
      ]
     },
     "metadata": {},
     "output_type": "display_data"
    }
   ],
   "source": [
    "#installing all libraries\n",
    "%matplotlib inline\n",
    "import matplotlib.pyplot as plt\n",
    "plt.plot(Y_test,label = \"Actual death\" )\n",
    "plt.plot(P_test, label = \"Predicted death\")\n",
    "plt.xlabel('Date')\n",
    "plt.legend()\n",
    "plt.show()"
   ]
  },
  {
   "cell_type": "code",
   "execution_count": null,
   "metadata": {},
   "outputs": [],
   "source": []
  },
  {
   "cell_type": "code",
   "execution_count": null,
   "metadata": {},
   "outputs": [],
   "source": []
  },
  {
   "cell_type": "code",
   "execution_count": null,
   "metadata": {},
   "outputs": [],
   "source": []
  }
 ],
 "metadata": {
  "kernelspec": {
   "display_name": "Python 3",
   "language": "python",
   "name": "python3"
  },
  "language_info": {
   "codemirror_mode": {
    "name": "ipython",
    "version": 3
   },
   "file_extension": ".py",
   "mimetype": "text/x-python",
   "name": "python",
   "nbconvert_exporter": "python",
   "pygments_lexer": "ipython3",
   "version": "3.6.4"
  }
 },
 "nbformat": 4,
 "nbformat_minor": 2
}
